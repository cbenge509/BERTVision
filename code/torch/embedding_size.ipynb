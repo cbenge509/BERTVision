{
 "cells": [
  {
   "cell_type": "code",
   "execution_count": 17,
   "id": "amazing-rider",
   "metadata": {},
   "outputs": [],
   "source": [
    "import transformers\n",
    "import torch\n",
    "import torch.nn as nn\n",
    "import torch.functional as F"
   ]
  },
  {
   "cell_type": "code",
   "execution_count": 13,
   "id": "induced-testament",
   "metadata": {},
   "outputs": [],
   "source": [
    "from utils.bert_models import MultiNNLayerParasiteLearnedBERT"
   ]
  },
  {
   "cell_type": "code",
   "execution_count": 14,
   "id": "solved-storage",
   "metadata": {},
   "outputs": [],
   "source": [
    "m = MultiNNLayerParasiteLearnedBERT().cuda()"
   ]
  },
  {
   "cell_type": "code",
   "execution_count": 19,
   "id": "fossil-profit",
   "metadata": {},
   "outputs": [],
   "source": [
    "criterion = nn.CrossEntropyLoss()"
   ]
  },
  {
   "cell_type": "code",
   "execution_count": 24,
   "id": "fatty-preserve",
   "metadata": {},
   "outputs": [],
   "source": [
    "import pandas as pd\n",
    "from data.bert_processors.processors import QNLI, Tokenize_Transform2, RTE\n",
    "import numpy as np\n",
    "from loguru import logger\n",
    "\n",
    "class Args:\n",
    "    def __init__(self):\n",
    "        self.max_seq_length = 400\n",
    "        self.model = 'QNLI'\n",
    "        \n",
    "args = Args()"
   ]
  },
  {
   "cell_type": "code",
   "execution_count": 25,
   "id": "prompt-broadcast",
   "metadata": {},
   "outputs": [],
   "source": [
    "tokenizer = Tokenize_Transform2(args, 'bert-base-uncased')"
   ]
  },
  {
   "cell_type": "code",
   "execution_count": 26,
   "id": "incorporated-boost",
   "metadata": {},
   "outputs": [],
   "source": [
    "qqp = RTE('train', transform = tokenizer)"
   ]
  },
  {
   "cell_type": "code",
   "execution_count": null,
   "id": "available-cocktail",
   "metadata": {},
   "outputs": [],
   "source": []
  },
  {
   "cell_type": "code",
   "execution_count": 28,
   "id": "civil-disco",
   "metadata": {},
   "outputs": [
    {
     "name": "stdout",
     "output_type": "stream",
     "text": [
      "0\n"
     ]
    }
   ],
   "source": [
    "length = []\n",
    "for i in range(len(qqp)):\n",
    "    length.append(qqp[i]['attention_mask'].numpy().sum())\n",
    "    if not i % 10000:\n",
    "        print(i)"
   ]
  },
  {
   "cell_type": "code",
   "execution_count": 29,
   "id": "logical-infection",
   "metadata": {},
   "outputs": [
    {
     "data": {
      "text/plain": [
       "289"
      ]
     },
     "execution_count": 29,
     "metadata": {},
     "output_type": "execute_result"
    }
   ],
   "source": [
    "max(length)"
   ]
  },
  {
   "cell_type": "code",
   "execution_count": 30,
   "id": "outstanding-creator",
   "metadata": {},
   "outputs": [
    {
     "data": {
      "text/plain": [
       "(array([ 531., 1122.,  292.,  201.,  191.,   88.,   50.,   11.,    2.,\n",
       "           2.]),\n",
       " array([ 13. ,  40.6,  68.2,  95.8, 123.4, 151. , 178.6, 206.2, 233.8,\n",
       "        261.4, 289. ]),\n",
       " <BarContainer object of 10 artists>)"
      ]
     },
     "execution_count": 30,
     "metadata": {},
     "output_type": "execute_result"
    },
    {
     "data": {
      "image/png": "[encoded data removed]",
      "text/plain": [
       "<Figure size 432x288 with 1 Axes>"
      ]
     },
     "metadata": {
      "needs_background": "light"
     },
     "output_type": "display_data"
    }
   ],
   "source": [
    "import matplotlib.pyplot as plt\n",
    "plt.hist(length)"
   ]
  },
  {
   "cell_type": "code",
   "execution_count": 12,
   "id": "terminal-queen",
   "metadata": {},
   "outputs": [
    {
     "data": {
      "text/plain": [
       "82.0"
      ]
     },
     "execution_count": 12,
     "metadata": {},
     "output_type": "execute_result"
    }
   ],
   "source": [
    "np.percentile(length, 95\n",
    "             )"
   ]
  },
  {
   "cell_type": "code",
   "execution_count": null,
   "id": "elegant-calcium",
   "metadata": {},
   "outputs": [],
   "source": []
  }
 ],
 "metadata": {
  "kernelspec": {
   "display_name": "Python 3",
   "language": "python",
   "name": "python3"
  },
  "language_info": {
   "codemirror_mode": {
    "name": "ipython",
    "version": 3
   },
   "file_extension": ".py",
   "mimetype": "text/x-python",
   "name": "python",
   "nbconvert_exporter": "python",
   "pygments_lexer": "ipython3",
   "version": "3.7.9"
  }
 },
 "nbformat": 4,
 "nbformat_minor": 5
}
