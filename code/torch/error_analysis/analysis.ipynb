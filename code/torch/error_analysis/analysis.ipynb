{
 "cells": [
  {
   "cell_type": "code",
   "execution_count": 102,
   "metadata": {},
   "outputs": [],
   "source": [
    "import numpy as np\n",
    "import pandas as pd\n",
    "import re\n",
    "import sklearn.metrics as sm"
   ]
  },
  {
   "cell_type": "code",
   "execution_count": 146,
   "metadata": {},
   "outputs": [],
   "source": [
    "def get_acc(df):\n",
    "    return sm.accuracy_score(df.target, df.pred)\n",
    "\n",
    "def gen_length(df):\n",
    "    df['s1_length'] = df.sentence1.apply(lambda x: len(re.findall(\"[a-z]+\", x)))\n",
    "    df['s2_length'] = df.sentence2.apply(lambda x: len(re.findall(\"[a-z]+\", x)))\n",
    "    return df\n",
    "    \n",
    "def load_pred(f, ds = 'rte'):\n",
    "    df = pd.read_csv(f)\n",
    "    ds = gen_length(pd.read_csv('RTE/dev.tsv', sep = '\\t'))\n",
    "    print(df.describe())\n",
    "    return pd.merge(df, ds, left_on = 'idx', right_on = 'index')\n",
    "\n",
    "def length_s(df, pos = 1, positive_only = True):\n",
    "    if pos == 1:\n",
    "        len_field = 's1_length'\n",
    "    else:\n",
    "        len_field = 's2_length'\n",
    "    \n",
    "    if positive_only:\n",
    "        return df[df.pred == df.target][len_field].mean()\n",
    "    else:\n",
    "        return df[len_field].mean()\n",
    "    \n",
    "def get_tf_tn_rates(df):\n",
    "    cm = sm.confusion_matrix(df.target, df.pred)\n",
    "    tn = cm[0][0]\n",
    "    fn = cm[1][0]\n",
    "    tp = cm[1][1]\n",
    "    fp = cm[0][1]\n",
    "    print(\"True positives: \", tp)\n",
    "    print(\"Recall: \", tp / (tp + fn))\n",
    "    print(\"True negatives: \", tn)\n"
   ]
  },
  {
   "cell_type": "code",
   "execution_count": 152,
   "metadata": {},
   "outputs": [
    {
     "data": {
      "text/plain": [
       "0.628158844765343"
      ]
     },
     "execution_count": 152,
     "metadata": {},
     "output_type": "execute_result"
    }
   ],
   "source": [
    "s = pd.read_csv('error_analysis_rte.csv')\n",
    "sum(s.pred == s.target) / len(s)"
   ]
  },
  {
   "cell_type": "code",
   "execution_count": 153,
   "metadata": {},
   "outputs": [
    {
     "data": {
      "text/plain": [
       "0.5812274368231047"
      ]
     },
     "execution_count": 153,
     "metadata": {},
     "output_type": "execute_result"
    }
   ],
   "source": [
    "s = pd.read_csv('error_analysis_AP_RTE.csv')\n",
    "sum(s.pred == s.target) / len(s)"
   ]
  },
  {
   "cell_type": "code",
   "execution_count": 136,
   "metadata": {},
   "outputs": [
    {
     "name": "stdout",
     "output_type": "stream",
     "text": [
      "             pred      target        idx\n",
      "count  277.000000  277.000000  277.00000\n",
      "mean     0.675090    0.527076  138.00000\n",
      "std      0.469189    0.500170   80.10722\n",
      "min      0.000000    0.000000    0.00000\n",
      "25%      0.000000    0.000000   69.00000\n",
      "50%      1.000000    1.000000  138.00000\n",
      "75%      1.000000    1.000000  207.00000\n",
      "max      1.000000    1.000000  276.00000\n"
     ]
    },
    {
     "data": {
      "text/plain": [
       "0.628158844765343"
      ]
     },
     "execution_count": 136,
     "metadata": {},
     "output_type": "execute_result"
    }
   ],
   "source": [
    "msr = load_pred('error_analysis_rte.csv')\n",
    "get_acc(msr)\n",
    "#67.5% responses are predicted to be positive"
   ]
  },
  {
   "cell_type": "code",
   "execution_count": 137,
   "metadata": {},
   "outputs": [
    {
     "name": "stdout",
     "output_type": "stream",
     "text": [
      "             pred      target        idx\n",
      "count  277.000000  277.000000  277.00000\n",
      "mean     0.592058    0.527076  138.00000\n",
      "std      0.492342    0.500170   80.10722\n",
      "min      0.000000    0.000000    0.00000\n",
      "25%      0.000000    0.000000   69.00000\n",
      "50%      1.000000    1.000000  138.00000\n",
      "75%      1.000000    1.000000  207.00000\n",
      "max      1.000000    1.000000  276.00000\n"
     ]
    },
    {
     "data": {
      "text/plain": [
       "0.5812274368231047"
      ]
     },
     "execution_count": 137,
     "metadata": {},
     "output_type": "execute_result"
    }
   ],
   "source": [
    "msr_ap = load_pred('error_analysis_AP_RTE.csv')\n",
    "get_acc(msr_ap)\n",
    "#59.2% responses are predicted to be positive"
   ]
  },
  {
   "cell_type": "code",
   "execution_count": 80,
   "metadata": {
    "scrolled": true
   },
   "outputs": [
    {
     "name": "stdout",
     "output_type": "stream",
     "text": [
      "True positives:  115\n",
      "Recall:  0.7876712328767124\n",
      "True negatives:  59\n"
     ]
    }
   ],
   "source": [
    "get_tf_tn_rates(msr)"
   ]
  },
  {
   "cell_type": "code",
   "execution_count": 81,
   "metadata": {
    "scrolled": true
   },
   "outputs": [
    {
     "name": "stdout",
     "output_type": "stream",
     "text": [
      "True positives:  97\n",
      "Recall:  0.6643835616438356\n",
      "True negatives:  64\n"
     ]
    }
   ],
   "source": [
    "get_tf_tn_rates(msr_ap)"
   ]
  },
  {
   "cell_type": "code",
   "execution_count": 82,
   "metadata": {},
   "outputs": [
    {
     "data": {
      "text/plain": [
       "0.48854961832061067"
      ]
     },
     "execution_count": 82,
     "metadata": {},
     "output_type": "execute_result"
    }
   ],
   "source": [
    "64/sum(msr.target == 0)"
   ]
  },
  {
   "cell_type": "code",
   "execution_count": 83,
   "metadata": {},
   "outputs": [
    {
     "data": {
      "text/plain": [
       "0.45038167938931295"
      ]
     },
     "execution_count": 83,
     "metadata": {},
     "output_type": "execute_result"
    }
   ],
   "source": [
    "59/sum(msr.target == 0)"
   ]
  },
  {
   "cell_type": "code",
   "execution_count": 143,
   "metadata": {},
   "outputs": [
    {
     "data": {
      "text/plain": [
       "(41.60919540229885, 8.189655172413794)"
      ]
     },
     "execution_count": 143,
     "metadata": {},
     "output_type": "execute_result"
    }
   ],
   "source": [
    "length_s(msr, 1), length_s(msr, 2)"
   ]
  },
  {
   "cell_type": "code",
   "execution_count": 144,
   "metadata": {},
   "outputs": [
    {
     "data": {
      "text/plain": [
       "(41.577639751552795, 8.248447204968944)"
      ]
     },
     "execution_count": 144,
     "metadata": {},
     "output_type": "execute_result"
    }
   ],
   "source": [
    "length_s(msr_ap, 1), length_s(msr_ap, 2)"
   ]
  },
  {
   "cell_type": "code",
   "execution_count": 148,
   "metadata": {},
   "outputs": [
    {
     "data": {
      "text/plain": [
       "(41.56678700361011, 8.155234657039712)"
      ]
     },
     "execution_count": 148,
     "metadata": {},
     "output_type": "execute_result"
    }
   ],
   "source": [
    "length_s(msr, 1, False), length_s(msr, 2, False)"
   ]
  },
  {
   "cell_type": "code",
   "execution_count": null,
   "metadata": {},
   "outputs": [],
   "source": []
  },
  {
   "cell_type": "code",
   "execution_count": null,
   "metadata": {},
   "outputs": [],
   "source": []
  },
  {
   "cell_type": "code",
   "execution_count": null,
   "metadata": {},
   "outputs": [],
   "source": []
  },
  {
   "cell_type": "code",
   "execution_count": null,
   "metadata": {},
   "outputs": [],
   "source": []
  },
  {
   "cell_type": "code",
   "execution_count": null,
   "metadata": {},
   "outputs": [],
   "source": []
  },
  {
   "cell_type": "code",
   "execution_count": null,
   "metadata": {},
   "outputs": [],
   "source": []
  },
  {
   "cell_type": "code",
   "execution_count": null,
   "metadata": {},
   "outputs": [],
   "source": []
  },
  {
   "cell_type": "code",
   "execution_count": null,
   "metadata": {},
   "outputs": [],
   "source": []
  },
  {
   "cell_type": "code",
   "execution_count": null,
   "metadata": {},
   "outputs": [],
   "source": []
  },
  {
   "cell_type": "code",
   "execution_count": 84,
   "metadata": {},
   "outputs": [
    {
     "name": "stdout",
     "output_type": "stream",
     "text": [
      "              pred       target           idx\n",
      "count  1725.000000  1725.000000  1.725000e+03\n",
      "mean      0.691014     0.664928  1.659233e+06\n",
      "std       0.462209     0.472153  9.922661e+05\n",
      "min       0.000000     0.000000  2.670000e+02\n",
      "25%       0.000000     0.000000  7.802010e+05\n",
      "50%       1.000000     1.000000  1.629440e+06\n",
      "75%       1.000000     1.000000  2.500731e+06\n",
      "max       1.000000     1.000000  3.454292e+06\n"
     ]
    },
    {
     "data": {
      "text/plain": [
       "0.8057971014492754"
      ]
     },
     "execution_count": 84,
     "metadata": {},
     "output_type": "execute_result"
    }
   ],
   "source": [
    "msr = load_pred('error_analysis_msr.csv')\n",
    "get_acc(msr)\n",
    "#67.5% responses are predicted to be positive"
   ]
  },
  {
   "cell_type": "code",
   "execution_count": 85,
   "metadata": {},
   "outputs": [
    {
     "name": "stdout",
     "output_type": "stream",
     "text": [
      "              pred       target           idx\n",
      "count  1725.000000  1725.000000  1.725000e+03\n",
      "mean      0.707246     0.664928  1.659233e+06\n",
      "std       0.455158     0.472153  9.922661e+05\n",
      "min       0.000000     0.000000  2.670000e+02\n",
      "25%       0.000000     0.000000  7.802010e+05\n",
      "50%       1.000000     1.000000  1.629440e+06\n",
      "75%       1.000000     1.000000  2.500731e+06\n",
      "max       1.000000     1.000000  3.454292e+06\n"
     ]
    },
    {
     "data": {
      "text/plain": [
       "0.7953623188405797"
      ]
     },
     "execution_count": 85,
     "metadata": {},
     "output_type": "execute_result"
    }
   ],
   "source": [
    "msr_ap = load_pred('error_analysis_AP_MSR.csv')\n",
    "get_acc(msr_ap)\n",
    "#59.2% responses are predicted to be positive"
   ]
  },
  {
   "cell_type": "code",
   "execution_count": 86,
   "metadata": {
    "scrolled": true
   },
   "outputs": [
    {
     "name": "stdout",
     "output_type": "stream",
     "text": [
      "True positives:  1002\n",
      "Recall:  0.8735832606800349\n",
      "True negatives:  388\n"
     ]
    }
   ],
   "source": [
    "get_tf_tn_rates(msr)"
   ]
  },
  {
   "cell_type": "code",
   "execution_count": 87,
   "metadata": {
    "scrolled": true
   },
   "outputs": [
    {
     "name": "stdout",
     "output_type": "stream",
     "text": [
      "True positives:  1007\n",
      "Recall:  0.8779424585876199\n",
      "True negatives:  365\n"
     ]
    }
   ],
   "source": [
    "get_tf_tn_rates(msr_ap)"
   ]
  },
  {
   "cell_type": "code",
   "execution_count": 90,
   "metadata": {},
   "outputs": [
    {
     "data": {
      "text/plain": [
       "0.671280276816609"
      ]
     },
     "execution_count": 90,
     "metadata": {},
     "output_type": "execute_result"
    }
   ],
   "source": [
    "388/sum(msr.target == 0)"
   ]
  },
  {
   "cell_type": "code",
   "execution_count": 91,
   "metadata": {},
   "outputs": [
    {
     "data": {
      "text/plain": [
       "0.6314878892733564"
      ]
     },
     "execution_count": 91,
     "metadata": {},
     "output_type": "execute_result"
    }
   ],
   "source": [
    "365/sum(msr.target == 0)"
   ]
  },
  {
   "cell_type": "code",
   "execution_count": null,
   "metadata": {},
   "outputs": [],
   "source": []
  }
 ],
 "metadata": {
  "kernelspec": {
   "display_name": "Python 3",
   "language": "python",
   "name": "python3"
  },
  "language_info": {
   "codemirror_mode": {
    "name": "ipython",
    "version": 3
   },
   "file_extension": ".py",
   "mimetype": "text/x-python",
   "name": "python",
   "nbconvert_exporter": "python",
   "pygments_lexer": "ipython3",
   "version": "3.8.5"
  }
 },
 "nbformat": 4,
 "nbformat_minor": 4
}
