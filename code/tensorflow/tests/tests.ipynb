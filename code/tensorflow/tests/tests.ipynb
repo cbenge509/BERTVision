{
 "cells": [
  {
   "cell_type": "code",
   "execution_count": 1,
   "metadata": {},
   "outputs": [],
   "source": [
    "import unittest\n",
    "import h5py\n",
    "\n",
    "#git repo specific setup\n",
    "import sys\n",
    "sys.path.append('../utils')\n",
    "\n",
    "from training_utils import *\n",
    "from evaluation import *"
   ]
  },
  {
   "cell_type": "code",
   "execution_count": 2,
   "metadata": {},
   "outputs": [],
   "source": [
    "config = BertConfig.from_pretrained(\"bert-large-uncased\", output_hidden_states=True)\n",
    "model = PretrainedBertSquad2Faster('../../bert_base_squad_1e-5_adam_4batchsize_2epochs_weights_BERT_ONLY.h5')"
   ]
  },
  {
   "cell_type": "code",
   "execution_count": 8,
   "metadata": {},
   "outputs": [],
   "source": [
    "import unittest\n",
    "import h5py\n",
    "\n",
    "#git repo specific setup\n",
    "import sys\n",
    "sys.path.append('../utils')\n",
    "\n",
    "from training_utils import *\n",
    "from evaluation import *\n",
    "\n",
    "class TestBERTImageGenerator(unittest.TestCase):\n",
    "    def __init__(self, *args, **kwargs):\n",
    "        super().__init__(*args, **kwargs)\n",
    "        self.model = PretrainedBertSquad2Faster('../../bert_base_squad_1e-5_adam_4batchsize_2epochs_weights_BERT_ONLY.h5').model\n",
    "\n",
    "        train = h5py.File('../../../SQuADv2/train_386.h5', 'r')\n",
    "        self.start_ids = train['input_start']\n",
    "        self.end_ids = train['input_end']\n",
    "        self.train_inputs = np.array(train['input_ids'])\n",
    "        self.train_masks = np.array(train['attention_mask'])\n",
    "        self.labels = np.vstack([self.start_ids, self.end_ids]).T\n",
    "        self.offset = 2\n",
    "        self.start_idx = 14325\n",
    "        self.end_idx = 17895\n",
    "\n",
    "        self.images = BERTImageGenerator('../../../data/train/',\n",
    "                            self.labels,\n",
    "                            batch_size=1,\n",
    "                            start_idx = self.start_idx,\n",
    "                            end_idx = self.end_idx)\n",
    "\n",
    "        self.subset = self.images[self.offset]\n",
    "\n",
    "    def setUp(self):\n",
    "        self.idx = self.start_idx + self.offset\n",
    "\n",
    "    def test_embeddings_shape(self):\n",
    "        #extract image 2 with starting index 14325, leading to image 14325\n",
    "\n",
    "        self.assertEqual(len(self.subset), 2)\n",
    "        self.assertEqual(self.subset[0].shape, (1, 24, 386, 1024))\n",
    "        self.assertEqual(self.subset[1].shape, (1, 2))\n",
    "\n",
    "    def test_offset(self):\n",
    "\n",
    "        manual_load = h5py.File('../../../data/train/%d.h5' %self.idx, 'r')\n",
    "        self.assertTrue((np.array(manual_load['hidden_state_activations'])[0][-1] == self.subset[0][0][0][-1]).all())\n",
    "\n",
    "    def test_label_ids(self):\n",
    "        self.assertEqual(self.subset[1][0][0], self.start_ids[self.idx])\n",
    "        self.assertEqual(self.subset[1][0][1], self.end_ids[self.idx])\n",
    "\n",
    "    def test_embeddings_with_model(self):\n",
    "\n",
    "        embeddings, outputs = self.model.predict([self.train_inputs[[self.idx]], self.train_masks[[self.idx]]])\n",
    "        non_zero_idx = np.sum(self.train_inputs[[self.idx]] != 0)\n",
    "        self.assertTrue((embeddings[12][0][:non_zero_idx][-1] == self.subset[0][0][12][-1]).all())\n",
    "\n",
    "    def test_shuffle_ids(self):\n",
    "        pass\n",
    "\n",
    "    def test_shuffled_labels(self):\n",
    "        pass\n",
    "\n",
    "#if __name__ == '__main__':\n",
    "#    unittest.main()\n"
   ]
  },
  {
   "cell_type": "code",
   "execution_count": 2,
   "metadata": {},
   "outputs": [],
   "source": [
    "train = h5py.File('../../../SQuADv2/train_386.h5', 'r')\n",
    "train_inputs = np.array(train['input_ids'])\n",
    "train_masks = np.array(train['attention_mask'])\n",
    "start_ids = train['input_start']\n",
    "end_ids = train['input_end']\n",
    "labels = np.vstack([start_ids, end_ids]).T\n",
    "        \n",
    "images = BERTImageGenerator('../../../data/train/', \n",
    "                            labels, \n",
    "                            batch_size=1, \n",
    "                            start_idx = 14325, \n",
    "                            end_idx = 17895,\n",
    "                            shuffle = False)"
   ]
  },
  {
   "cell_type": "code",
   "execution_count": 3,
   "metadata": {},
   "outputs": [],
   "source": [
    "p = images[2]"
   ]
  },
  {
   "cell_type": "code",
   "execution_count": 65,
   "metadata": {},
   "outputs": [
    {
     "data": {
      "text/plain": [
       "True"
      ]
     },
     "execution_count": 65,
     "metadata": {},
     "output_type": "execute_result"
    }
   ],
   "source": [
    "p[0].shape == (1, 24, 386, 1024)"
   ]
  },
  {
   "cell_type": "code",
   "execution_count": 9,
   "metadata": {},
   "outputs": [],
   "source": [
    "a  = TestBERTImageGenerator()"
   ]
  },
  {
   "cell_type": "code",
   "execution_count": 11,
   "metadata": {},
   "outputs": [
    {
     "data": {
      "text/plain": [
       "array([[19., 24.]])"
      ]
     },
     "execution_count": 11,
     "metadata": {},
     "output_type": "execute_result"
    }
   ],
   "source": [
    "a"
   ]
  },
  {
   "cell_type": "code",
   "execution_count": 5,
   "metadata": {},
   "outputs": [
    {
     "ename": "AttributeError",
     "evalue": "'BERTImageGenerator' object has no attribute 'subset'",
     "output_type": "error",
     "traceback": [
      "\u001b[1;31m---------------------------------------------------------------------------\u001b[0m",
      "\u001b[1;31mAttributeError\u001b[0m                            Traceback (most recent call last)",
      "\u001b[1;32m<ipython-input-5-0de89271ea91>\u001b[0m in \u001b[0;36m<module>\u001b[1;34m\u001b[0m\n\u001b[1;32m----> 1\u001b[1;33m \u001b[0mimages\u001b[0m\u001b[1;33m.\u001b[0m\u001b[0msubset\u001b[0m\u001b[1;33m\u001b[0m\u001b[1;33m\u001b[0m\u001b[0m\n\u001b[0m",
      "\u001b[1;31mAttributeError\u001b[0m: 'BERTImageGenerator' object has no attribute 'subset'"
     ]
    }
   ],
   "source": [
    "images.subset"
   ]
  },
  {
   "cell_type": "code",
   "execution_count": 29,
   "metadata": {},
   "outputs": [],
   "source": [
    "a = h5py.File('../../../data/train/14327.h5', 'r')"
   ]
  },
  {
   "cell_type": "code",
   "execution_count": 70,
   "metadata": {},
   "outputs": [
    {
     "data": {
      "text/plain": [
       "array([-0.4621777 ,  0.27707544, -0.20735587, ..., -0.00903864,\n",
       "        0.2197759 ,  0.00766955], dtype=float32)"
      ]
     },
     "execution_count": 70,
     "metadata": {},
     "output_type": "execute_result"
    }
   ],
   "source": [
    "np.array(a['hidden_state_activations'])[0][-1]"
   ]
  },
  {
   "cell_type": "code",
   "execution_count": 71,
   "metadata": {},
   "outputs": [
    {
     "data": {
      "text/plain": [
       "array([-0.46217769,  0.27707544, -0.20735587, ..., -0.00903864,\n",
       "        0.2197759 ,  0.00766955])"
      ]
     },
     "execution_count": 71,
     "metadata": {},
     "output_type": "execute_result"
    }
   ],
   "source": [
    "p[0][0][0][-1]"
   ]
  },
  {
   "cell_type": "code",
   "execution_count": 30,
   "metadata": {},
   "outputs": [
    {
     "data": {
      "text/plain": [
       "(25, 275, 1024)"
      ]
     },
     "execution_count": 30,
     "metadata": {},
     "output_type": "execute_result"
    }
   ],
   "source": [
    "np.array(a['hidden_state_activations']).shape"
   ]
  },
  {
   "cell_type": "code",
   "execution_count": 100,
   "metadata": {},
   "outputs": [
    {
     "data": {
      "text/plain": [
       "(231.0, 232.0)"
      ]
     },
     "execution_count": 100,
     "metadata": {},
     "output_type": "execute_result"
    }
   ],
   "source": [
    "start_ids[14327], end_ids[14327]"
   ]
  },
  {
   "cell_type": "code",
   "execution_count": 101,
   "metadata": {},
   "outputs": [],
   "source": [
    "p = np.array(a['hidden_state_activations'])"
   ]
  },
  {
   "cell_type": "code",
   "execution_count": 102,
   "metadata": {},
   "outputs": [
    {
     "data": {
      "text/plain": [
       "(25, 275, 1024)"
      ]
     },
     "execution_count": 102,
     "metadata": {},
     "output_type": "execute_result"
    }
   ],
   "source": [
    "p.shape"
   ]
  },
  {
   "cell_type": "code",
   "execution_count": 32,
   "metadata": {},
   "outputs": [
    {
     "data": {
      "text/plain": [
       "array([[231., 232.]])"
      ]
     },
     "execution_count": 32,
     "metadata": {},
     "output_type": "execute_result"
    }
   ],
   "source": [
    "p[1]"
   ]
  },
  {
   "cell_type": "code",
   "execution_count": 33,
   "metadata": {},
   "outputs": [
    {
     "data": {
      "text/plain": [
       "(1, 24, 386, 1024)"
      ]
     },
     "execution_count": 33,
     "metadata": {},
     "output_type": "execute_result"
    }
   ],
   "source": [
    "p[0].shape"
   ]
  },
  {
   "cell_type": "code",
   "execution_count": 35,
   "metadata": {},
   "outputs": [
    {
     "data": {
      "text/plain": [
       "array([-0.46217769,  0.27707544, -0.20735587, ..., -0.00903864,\n",
       "        0.2197759 ,  0.00766955])"
      ]
     },
     "execution_count": 35,
     "metadata": {},
     "output_type": "execute_result"
    }
   ],
   "source": [
    "p[0][0][0][-1]"
   ]
  },
  {
   "cell_type": "code",
   "execution_count": 83,
   "metadata": {},
   "outputs": [],
   "source": [
    "embeddings, outputs = model.model.predict([train_inputs[[14327]], train_masks[[14327]]])"
   ]
  },
  {
   "cell_type": "code",
   "execution_count": 84,
   "metadata": {},
   "outputs": [
    {
     "data": {
      "text/plain": [
       "array([ 0.11816142, -0.38899085,  0.632986  , ...,  0.30848777,\n",
       "       -1.1854073 , -0.44034505], dtype=float32)"
      ]
     },
     "execution_count": 84,
     "metadata": {},
     "output_type": "execute_result"
    }
   ],
   "source": [
    "outputs[0][-1]"
   ]
  },
  {
   "cell_type": "code",
   "execution_count": 85,
   "metadata": {},
   "outputs": [
    {
     "data": {
      "text/plain": [
       "(1, 275, 1024)"
      ]
     },
     "execution_count": 85,
     "metadata": {},
     "output_type": "execute_result"
    }
   ],
   "source": [
    "np.array(a['sequence_outputs']).shape"
   ]
  },
  {
   "cell_type": "code",
   "execution_count": 86,
   "metadata": {},
   "outputs": [],
   "source": [
    "idx = np.sum(train_inputs[[14327]] != 0)"
   ]
  },
  {
   "cell_type": "code",
   "execution_count": 112,
   "metadata": {},
   "outputs": [
    {
     "data": {
      "text/plain": [
       "275"
      ]
     },
     "execution_count": 112,
     "metadata": {},
     "output_type": "execute_result"
    }
   ],
   "source": [
    "idx"
   ]
  },
  {
   "cell_type": "code",
   "execution_count": 89,
   "metadata": {},
   "outputs": [
    {
     "data": {
      "text/plain": [
       "(1, 386, 1024)"
      ]
     },
     "execution_count": 89,
     "metadata": {},
     "output_type": "execute_result"
    }
   ],
   "source": [
    "embeddings[12][:idx].shape"
   ]
  },
  {
   "cell_type": "code",
   "execution_count": 106,
   "metadata": {},
   "outputs": [
    {
     "data": {
      "text/plain": [
       "25"
      ]
     },
     "execution_count": 106,
     "metadata": {},
     "output_type": "execute_result"
    }
   ],
   "source": [
    "len(embeddings)"
   ]
  },
  {
   "cell_type": "code",
   "execution_count": 120,
   "metadata": {},
   "outputs": [
    {
     "data": {
      "text/plain": [
       "array([ True,  True,  True, ...,  True,  True,  True])"
      ]
     },
     "execution_count": 120,
     "metadata": {},
     "output_type": "execute_result"
    }
   ],
   "source": [
    "embeddings[12][0][:idx][-1] == p[0][0][12][-1]"
   ]
  },
  {
   "cell_type": "code",
   "execution_count": 99,
   "metadata": {},
   "outputs": [
    {
     "data": {
      "text/plain": [
       "array([ 0.3705852 ,  0.40124345, -0.39207998, ...,  0.58259469,\n",
       "       -0.31270698,  0.32212216])"
      ]
     },
     "execution_count": 99,
     "metadata": {},
     "output_type": "execute_result"
    }
   ],
   "source": [
    "p[0][0][12][-1]"
   ]
  },
  {
   "cell_type": "code",
   "execution_count": 110,
   "metadata": {},
   "outputs": [
    {
     "data": {
      "text/plain": [
       "array([-0.46217769,  0.27707544, -0.20735587, ..., -0.00903864,\n",
       "        0.2197759 ,  0.00766955])"
      ]
     },
     "execution_count": 110,
     "metadata": {},
     "output_type": "execute_result"
    }
   ],
   "source": [
    "p[0][0][0][-1]"
   ]
  },
  {
   "cell_type": "code",
   "execution_count": null,
   "metadata": {},
   "outputs": [],
   "source": []
  }
 ],
 "metadata": {
  "kernelspec": {
   "display_name": "Python 3",
   "language": "python",
   "name": "python3"
  },
  "language_info": {
   "codemirror_mode": {
    "name": "ipython",
    "version": 3
   },
   "file_extension": ".py",
   "mimetype": "text/x-python",
   "name": "python",
   "nbconvert_exporter": "python",
   "pygments_lexer": "ipython3",
   "version": "3.7.6"
  }
 },
 "nbformat": 4,
 "nbformat_minor": 4
}
