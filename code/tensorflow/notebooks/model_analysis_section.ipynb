{
 "cells": [
  {
   "cell_type": "code",
   "execution_count": 1,
   "metadata": {},
   "outputs": [],
   "source": [
    "import tensorflow as tf\n",
    "import numpy as np\n",
    "import h5py\n",
    "from importlib import reload\n",
    "from tensorflow.keras import layers\n",
    "from tensorflow.keras.models import Model\n",
    "import tensorflow.keras as keras\n",
    "from transformers import TFBertModel, TFBertForQuestionAnswering\n",
    "import tensorflow.keras.backend as K\n",
    "from BERTVision.utils.evaluation import *\n",
    "import BERTVision\n",
    "import matplotlib.pyplot as plt"
   ]
  },
  {
   "cell_type": "code",
   "execution_count": 2,
   "metadata": {},
   "outputs": [
    {
     "name": "stderr",
     "output_type": "stream",
     "text": [
      "100%|██████████████████████████████████████████████████████████████████████████████████| 35/35 [00:04<00:00,  7.02it/s]\n"
     ]
    }
   ],
   "source": [
    "dev_answers = SquadDevAnswers('../SQuADv2/',\n",
    "                 '../SQuADv2/dev_386.h5',\n",
    "                 qas_ids = 'dev_qas_id',\n",
    "                 config = Squad2Config())"
   ]
  },
  {
   "cell_type": "markdown",
   "metadata": {},
   "source": [
    "### Load logits predicted by models for analysis"
   ]
  },
  {
   "cell_type": "code",
   "execution_count": 3,
   "metadata": {},
   "outputs": [],
   "source": [
    "#Model order:\n",
    "#3/10 epoch model\n",
    "#3/10 epoch model evaluated at 1 epoch embeddings\n",
    "#1 epoch model\n",
    "#BERT at 3/10 epochs\n",
    "#BERT at 1 epochs\n",
    "#BERT at 2 epochs\n",
    "\n",
    "#LOGITS FILES are 0.25GB so not part of GitHub. Available upon request\n",
    "data_dir = 'logits_best_models'\n",
    "txts = ['3_10_eval_3_10.txt', '3_10_eval_1.txt', '1_eval_1.txt',\n",
    "        'bert_3_10.txt', 'bert_1.txt', 'bert_2.txt']\n",
    "start_logits = []\n",
    "end_logits = []\n",
    "\n",
    "\n",
    "for i in txts:\n",
    "    dat = np.loadtxt(i, dtype = np.float32)\n",
    "    start, end = np.split(dat, 2, axis = 0)\n",
    "    start_logits.append(start)\n",
    "    end_logits.append(end)"
   ]
  },
  {
   "cell_type": "markdown",
   "metadata": {},
   "source": [
    "### Confirm EM/F1 values, and get per example EM/F1"
   ]
  },
  {
   "cell_type": "code",
   "execution_count": 4,
   "metadata": {},
   "outputs": [
    {
     "name": "stdout",
     "output_type": "stream",
     "text": [
      "Exact match: 0.699\n",
      "F1 score: 0.740\n",
      "Exact match: 0.745\n",
      "F1 score: 0.791\n",
      "Exact match: 0.749\n",
      "F1 score: 0.790\n",
      "Exact match: 0.654\n",
      "F1 score: 0.702\n",
      "Exact match: 0.728\n",
      "F1 score: 0.777\n",
      "Exact match: 0.747\n",
      "F1 score: 0.792\n"
     ]
    }
   ],
   "source": [
    "EM = []\n",
    "F1 = []\n",
    "\n",
    "for i,j in enumerate(txts):\n",
    "    start, end = start_logits[i], end_logits[i]\n",
    "    e, f = BERTVision.utils.evaluation.SquadModelEvaluation(1, dev_answers, start, end, already_prob=False).evaluate_metrics()\n",
    "    EM.append(e)\n",
    "    F1.append(f)"
   ]
  },
  {
   "cell_type": "markdown",
   "metadata": {},
   "source": [
    "### Model Ensembling"
   ]
  },
  {
   "cell_type": "code",
   "execution_count": 5,
   "metadata": {},
   "outputs": [],
   "source": [
    "def ensemble_two_models_add(model_1_start, model_1_end, model_2_start, model_2_end):\n",
    "    a1 = np.exp(model_1_start)/np.sum(np.exp(model_1_start), axis = 1, keepdims = True)\n",
    "    a2 = np.exp(model_2_start)/np.sum(np.exp(model_2_start), axis = 1, keepdims = True)\n",
    "    b1 = np.exp(model_1_end)/np.sum(np.exp(model_1_end), axis = 1, keepdims = True)\n",
    "    b2 = np.exp(model_2_end)/np.sum(np.exp(model_2_end), axis = 1, keepdims = True)\n",
    "    start = a1+a2\n",
    "    end = b1+b2\n",
    "    ensemble_EM, ensemble_F1 = BERTVision.utils.evaluation.SquadModelEvaluation(model_1_start, dev_answers, start, end, already_prob=True).evaluate_metrics()\n",
    "    return ensemble_EM, ensemble_F1\n",
    "\n",
    "#Max presented for the paper\n",
    "def ensemble_two_models_max(model_1_start, model_1_end, model_2_start, model_2_end):\n",
    "    #Calculate the softmax values for each predicted start/end span\n",
    "    a1 = np.exp(model_1_start)/np.sum(np.exp(model_1_start), axis = 1, keepdims = True)\n",
    "    a2 = np.exp(model_2_start)/np.sum(np.exp(model_2_start), axis = 1, keepdims = True)\n",
    "    b1 = np.exp(model_1_end)/np.sum(np.exp(model_1_end), axis = 1, keepdims = True)\n",
    "    b2 = np.exp(model_2_end)/np.sum(np.exp(model_2_end), axis = 1, keepdims = True)\n",
    "    \n",
    "    #Take the max of each value element-wise for all predictions\n",
    "    start = np.maximum(a1, a2)\n",
    "    end = np.maximum(b1, b2)\n",
    "    ensemble_EM, ensemble_F1 = BERTVision.utils.evaluation.SquadModelEvaluation(model_1_start, dev_answers, start, end, already_prob=True).evaluate_metrics()\n",
    "    return ensemble_EM, ensemble_F1\n"
   ]
  },
  {
   "cell_type": "markdown",
   "metadata": {},
   "source": [
    "#### Ensemble of 3/10 epoch model with BERT predictions at 3/10 epoch"
   ]
  },
  {
   "cell_type": "code",
   "execution_count": 6,
   "metadata": {},
   "outputs": [
    {
     "name": "stdout",
     "output_type": "stream",
     "text": [
      "Exact match: 0.691\n",
      "F1 score: 0.734\n"
     ]
    }
   ],
   "source": [
    "ensemble_EM_3_10_epoch, ensemble_F1_3_10_epoch = ensemble_two_models_max(start_logits[0], end_logits[0], \n",
    "                                                                   start_logits[3], end_logits[3])"
   ]
  },
  {
   "cell_type": "markdown",
   "metadata": {},
   "source": [
    "#### Ensemble of 1 epoch model with BERT predictions at 1 epoch"
   ]
  },
  {
   "cell_type": "code",
   "execution_count": 7,
   "metadata": {},
   "outputs": [
    {
     "name": "stdout",
     "output_type": "stream",
     "text": [
      "Exact match: 0.756\n",
      "F1 score: 0.798\n"
     ]
    }
   ],
   "source": [
    "ensemble_EM_1_epoch, ensemble_F1_1_epoch = ensemble_two_models_max(start_logits[2], end_logits[2], \n",
    "                                                                   start_logits[4], end_logits[4])"
   ]
  },
  {
   "cell_type": "markdown",
   "metadata": {},
   "source": [
    "#### Had Answer vs No Answer"
   ]
  },
  {
   "cell_type": "code",
   "execution_count": 8,
   "metadata": {},
   "outputs": [],
   "source": [
    "#Get an array representing whether a question has an answer based on Squad Examples\n",
    "is_impossible = np.array([dev_answers.examples[i].is_impossible for i in range(len(dev_answers.examples))])\n",
    "\n",
    "def frac_right_that_is_impossible(model):\n",
    "    model = np.array(model)\n",
    "    n, y = np.sum(model[is_impossible]), np.sum(model[np.invert(is_impossible)])\n",
    "    return n, y\n",
    "    #return n/(n+y), y/(n+y)"
   ]
  },
  {
   "cell_type": "code",
   "execution_count": 9,
   "metadata": {},
   "outputs": [
    {
     "data": {
      "text/plain": [
       "5945"
      ]
     },
     "execution_count": 9,
     "metadata": {},
     "output_type": "execute_result"
    }
   ],
   "source": [
    "#Number impossible\n",
    "sum(is_impossible)"
   ]
  },
  {
   "cell_type": "code",
   "execution_count": 10,
   "metadata": {},
   "outputs": [
    {
     "data": {
      "text/plain": [
       "5928"
      ]
     },
     "execution_count": 10,
     "metadata": {},
     "output_type": "execute_result"
    }
   ],
   "source": [
    "#Number not impossible\n",
    "len(is_impossible) - sum(is_impossible)"
   ]
  },
  {
   "cell_type": "code",
   "execution_count": 11,
   "metadata": {},
   "outputs": [],
   "source": [
    "imp, not_imp = [], []\n",
    "\n",
    "#Iterate through the EM vectors for each model and find the fraction that is impossible/not impossible answered correctly\n",
    "for i in EM:\n",
    "    c = frac_right_that_is_impossible(i)\n",
    "    imp.append(c[0])\n",
    "    not_imp.append(c[1])\n",
    "    "
   ]
  },
  {
   "cell_type": "code",
   "execution_count": 12,
   "metadata": {},
   "outputs": [
    {
     "data": {
      "text/plain": [
       "[4793, 4882, 4961, 3798, 4406, 4763]"
      ]
     },
     "execution_count": 12,
     "metadata": {},
     "output_type": "execute_result"
    }
   ],
   "source": [
    "imp"
   ]
  },
  {
   "cell_type": "code",
   "execution_count": 13,
   "metadata": {},
   "outputs": [],
   "source": [
    "#3/10 epoch model\n",
    "#3/10 epoch model evaluated at 1 epoch embeddings\n",
    "#1 epoch model\n",
    "#BERT at 3/10 epochs\n",
    "#BERT at 1 epochs\n",
    "#BERT at 2 epochs"
   ]
  },
  {
   "cell_type": "code",
   "execution_count": 14,
   "metadata": {},
   "outputs": [],
   "source": [
    "xlabels = ['Model_3/10', 'Model_mixed', 'Model_1_epoch', 'BERT_3/10', 'BERT_1_epoch', 'BERT_2_epoch', ]"
   ]
  },
  {
   "cell_type": "code",
   "execution_count": 15,
   "metadata": {
    "scrolled": false
   },
   "outputs": [
    {
     "data": {
      "text/plain": [
       "<matplotlib.legend.Legend at 0x1befd90da88>"
      ]
     },
     "execution_count": 15,
     "metadata": {},
     "output_type": "execute_result"
    },
    {
     "data": {
      "image/png": "[encoded data removed]",
      "text/plain": [
       "<Figure size 432x288 with 1 Axes>"
      ]
     },
     "metadata": {
      "needs_background": "light"
     },
     "output_type": "display_data"
    }
   ],
   "source": [
    "plt.scatter(xlabels, imp, label = 'impossible')\n",
    "plt.scatter(xlabels, not_imp, label = 'has_answer')\n",
    "plt.xticks(rotation=45)\n",
    "plt.title(\"Number of possible and impossible questions answered correctly by model\")\n",
    "plt.legend()"
   ]
  },
  {
   "cell_type": "markdown",
   "metadata": {},
   "source": [
    "### Context length"
   ]
  },
  {
   "cell_type": "code",
   "execution_count": 16,
   "metadata": {},
   "outputs": [],
   "source": [
    "#Get the length of the context by apply the wordpiece tokenizer\n",
    "tokenizer = Squad2Config().tokenizer\n",
    "length_context = [len(tokenizer.tokenize(i.context_text)) for i in dev_answers.examples]"
   ]
  },
  {
   "cell_type": "markdown",
   "metadata": {},
   "source": [
    "#### Context length for all questions"
   ]
  },
  {
   "cell_type": "code",
   "execution_count": 17,
   "metadata": {
    "scrolled": true
   },
   "outputs": [
    {
     "data": {
      "text/plain": [
       "164.49518304431598"
      ]
     },
     "execution_count": 17,
     "metadata": {},
     "output_type": "execute_result"
    }
   ],
   "source": [
    "#Out 3/10 epoch model\n",
    "np.array(length_context)[np.array(EM[0], dtype = bool)].mean()"
   ]
  },
  {
   "cell_type": "code",
   "execution_count": 18,
   "metadata": {
    "scrolled": true
   },
   "outputs": [
    {
     "data": {
      "text/plain": [
       "165.8602164390621"
      ]
     },
     "execution_count": 18,
     "metadata": {},
     "output_type": "execute_result"
    }
   ],
   "source": [
    "#BERT at 3/10 epoch\n",
    "np.array(length_context)[np.array(EM[3], dtype = bool)].mean()"
   ]
  },
  {
   "cell_type": "code",
   "execution_count": 19,
   "metadata": {},
   "outputs": [
    {
     "data": {
      "text/plain": [
       "164.39232673267327"
      ]
     },
     "execution_count": 19,
     "metadata": {},
     "output_type": "execute_result"
    }
   ],
   "source": [
    "#Model at 1 epoch\n",
    "np.array(length_context)[np.array(EM[2], dtype = bool)].mean()"
   ]
  },
  {
   "cell_type": "code",
   "execution_count": 20,
   "metadata": {
    "scrolled": true
   },
   "outputs": [
    {
     "data": {
      "text/plain": [
       "165.8988425925926"
      ]
     },
     "execution_count": 20,
     "metadata": {},
     "output_type": "execute_result"
    }
   ],
   "source": [
    "#BERT at 1 epoch\n",
    "np.array(length_context)[np.array(EM[4], dtype = bool)].mean()"
   ]
  },
  {
   "cell_type": "markdown",
   "metadata": {},
   "source": [
    "#### Context length for uniquely correctly answered questions"
   ]
  },
  {
   "cell_type": "code",
   "execution_count": 21,
   "metadata": {},
   "outputs": [
    {
     "data": {
      "text/plain": [
       "161.5788156797331"
      ]
     },
     "execution_count": 21,
     "metadata": {},
     "output_type": "execute_result"
    }
   ],
   "source": [
    "#At 3/10 epoch, our model correct, and BERT incorrect\n",
    "np.array(length_context)[np.array(EM[0]).astype(bool) & (1 - np.array(EM[3])).astype(bool)].mean()"
   ]
  },
  {
   "cell_type": "code",
   "execution_count": 22,
   "metadata": {},
   "outputs": [
    {
     "data": {
      "text/plain": [
       "175.2998477929985"
      ]
     },
     "execution_count": 22,
     "metadata": {},
     "output_type": "execute_result"
    }
   ],
   "source": [
    "#At 3/10 epoch, Our model incorrect, and BERT correct\n",
    "np.array(length_context)[(1-np.array(EM[0])).astype(bool) & np.array(EM[3]).astype(bool)].mean()"
   ]
  },
  {
   "cell_type": "code",
   "execution_count": 23,
   "metadata": {
    "scrolled": true
   },
   "outputs": [
    {
     "data": {
      "text/plain": [
       "158.6848816029144"
      ]
     },
     "execution_count": 23,
     "metadata": {},
     "output_type": "execute_result"
    }
   ],
   "source": [
    "#At 1 epoch, our model correct, and BERT incorrect\n",
    "np.array(length_context)[np.array(EM[2]).astype(bool) & (1 - np.array(EM[4])).astype(bool)].mean()"
   ]
  },
  {
   "cell_type": "code",
   "execution_count": 24,
   "metadata": {},
   "outputs": [
    {
     "data": {
      "text/plain": [
       "172.3329411764706"
      ]
     },
     "execution_count": 24,
     "metadata": {},
     "output_type": "execute_result"
    }
   ],
   "source": [
    "#At 1 epoch, our model incorrect, and BERT correct\n",
    "np.array(length_context)[(1-np.array(EM[2])).astype(bool) & np.array(EM[4]).astype(bool)].mean()"
   ]
  },
  {
   "cell_type": "markdown",
   "metadata": {},
   "source": [
    "### Second best answer"
   ]
  },
  {
   "cell_type": "code",
   "execution_count": 25,
   "metadata": {},
   "outputs": [],
   "source": [
    "#First, for the maximum position, set probability to 0 (logit to -1000)\n",
    "start = np.copy(start_logits[0])\n",
    "end = np.copy(end_logits[0])\n",
    "for row in start:\n",
    "    m_idx = np.argmax(row)\n",
    "    row[m_idx] = -1000\n",
    "    \n",
    "for row in end:\n",
    "    m_idx = np.argmax(row)\n",
    "    row[m_idx] = -1000\n"
   ]
  },
  {
   "cell_type": "code",
   "execution_count": 26,
   "metadata": {},
   "outputs": [
    {
     "name": "stdout",
     "output_type": "stream",
     "text": [
      "Exact match: 0.174\n",
      "F1 score: 0.240\n"
     ]
    }
   ],
   "source": [
    "#Get list of EM and F1\n",
    "second_best_EM, second_best_F1 = BERTVision.utils.evaluation.SquadModelEvaluation(1, dev_answers, start, end, already_prob=False).evaluate_metrics()"
   ]
  },
  {
   "cell_type": "markdown",
   "metadata": {},
   "source": [
    "#### Number second best gets correct where original was incorrect"
   ]
  },
  {
   "cell_type": "code",
   "execution_count": 27,
   "metadata": {},
   "outputs": [
    {
     "data": {
      "text/plain": [
       "1575"
      ]
     },
     "execution_count": 27,
     "metadata": {},
     "output_type": "execute_result"
    }
   ],
   "source": [
    "#Where original answer was incorrect, how many are correct\n",
    "#second best answer gets 1575/3569 correct!\n",
    "np.sum(np.array(second_best_EM)[np.array(EM[0]) == 0])"
   ]
  },
  {
   "cell_type": "markdown",
   "metadata": {},
   "source": [
    "#### Fraction of such questions that were answerable"
   ]
  },
  {
   "cell_type": "code",
   "execution_count": 28,
   "metadata": {
    "scrolled": false
   },
   "outputs": [
    {
     "data": {
      "text/plain": [
       "739"
      ]
     },
     "execution_count": 28,
     "metadata": {},
     "output_type": "execute_result"
    }
   ],
   "source": [
    "#Number correct with an answer by the second best answer\n",
    "np.array(second_best_EM)[(1-is_impossible).astype(bool)].sum()"
   ]
  },
  {
   "cell_type": "code",
   "execution_count": 29,
   "metadata": {},
   "outputs": [
    {
     "data": {
      "text/plain": [
       "492"
      ]
     },
     "execution_count": 29,
     "metadata": {},
     "output_type": "execute_result"
    }
   ],
   "source": [
    "#Sometimes, both best guess and second best guess gets it right \n",
    "#This happen when there's no answer, and both best guess and second best guess has start span\n",
    "#at a position after end span\n",
    "#Small number of such questions\n",
    "np.sum(np.array(second_best_EM)[np.array(EM[0]) == 1])"
   ]
  },
  {
   "cell_type": "code",
   "execution_count": 30,
   "metadata": {
    "scrolled": false
   },
   "outputs": [
    {
     "data": {
      "text/plain": [
       "836"
      ]
     },
     "execution_count": 30,
     "metadata": {},
     "output_type": "execute_result"
    }
   ],
   "source": [
    "#number correct without an answer; so about 50/50\n",
    "np.array(second_best_EM)[(is_impossible).astype(bool)].sum() - 492"
   ]
  },
  {
   "cell_type": "markdown",
   "metadata": {},
   "source": [
    "### Training data token lengths"
   ]
  },
  {
   "cell_type": "code",
   "execution_count": 31,
   "metadata": {},
   "outputs": [],
   "source": [
    "train_data = h5py.File('../SQuADv2/train.h5', 'r')\n",
    "train_ids = np.array(train_data['input_ids'], dtype = np.int32)\n",
    "train_masks = np.array(train_data['attention_mask'], dtype = np.int32)\n",
    "train_tokens = np.array(train_data['token_type_ids'], dtype = np.int32)"
   ]
  },
  {
   "cell_type": "code",
   "execution_count": 32,
   "metadata": {},
   "outputs": [],
   "source": [
    "#For the length, don't count padding tokens\n",
    "lengths = np.sum(train_ids > 0, axis = 1)"
   ]
  },
  {
   "cell_type": "code",
   "execution_count": 33,
   "metadata": {
    "scrolled": true
   },
   "outputs": [
    {
     "data": {
      "text/plain": [
       "(array([ 6214., 27564., 49806., 25743., 11927.,  5269.,  2039.,   944.,\n",
       "          558.,   507.]),\n",
       " array([ 35. ,  82.7, 130.4, 178.1, 225.8, 273.5, 321.2, 368.9, 416.6,\n",
       "        464.3, 512. ]),\n",
       " <a list of 10 Patch objects>)"
      ]
     },
     "execution_count": 33,
     "metadata": {},
     "output_type": "execute_result"
    },
    {
     "data": {
      "image/png": "[encoded data removed]",
      "text/plain": [
       "<Figure size 432x288 with 1 Axes>"
      ]
     },
     "metadata": {
      "needs_background": "light"
     },
     "output_type": "display_data"
    }
   ],
   "source": [
    "plt.hist(lengths)"
   ]
  },
  {
   "cell_type": "code",
   "execution_count": 34,
   "metadata": {},
   "outputs": [
    {
     "data": {
      "text/plain": [
       "(348.0, 402.0)"
      ]
     },
     "execution_count": 34,
     "metadata": {},
     "output_type": "execute_result"
    }
   ],
   "source": [
    "np.percentile(lengths, 98), np.percentile(lengths, 99)"
   ]
  },
  {
   "cell_type": "markdown",
   "metadata": {},
   "source": [
    "#### Tenney Learned pooling weights"
   ]
  },
  {
   "cell_type": "code",
   "execution_count": 35,
   "metadata": {},
   "outputs": [],
   "source": [
    "class BertConcat(layers.Layer):\n",
    "    def __init__(self, units = 1):\n",
    "        super().__init__()\n",
    "        \n",
    "        #Will only work currently with units = 1\n",
    "        self.units = 1\n",
    "        \n",
    "    def build(self, input_shape):\n",
    "        self.w = self.add_weight(shape = (input_shape[-1],), trainable = True, initializer = 'random_normal', name = 'w')\n",
    "        self.t = self.add_weight(shape = (1), trainable = True, initializer = 'ones', name = 't')\n",
    "    def call(self, inputs):\n",
    "        w = tf.nn.softmax(self.w)\n",
    "        return tf.reduce_sum(tf.multiply(inputs, w), axis = -1) * self.t\n",
    "\n",
    "def baseline_model():\n",
    "    inp = layers.Input(shape = (386, 1024, 25), dtype = tf.float32)\n",
    "    x = BertConcat()(inp)\n",
    "    x = layers.Dense(2)(x)\n",
    "    start, end = tf.split(x, 2, axis=-1)\n",
    "    start = tf.squeeze(start, axis = -1)\n",
    "    end = tf.squeeze(end, axis = -1)\n",
    "    model = Model(inputs = inp, outputs = [start, end])\n",
    "    return model\n",
    "\n",
    "tenney = baseline_model()\n",
    "tenney.load_weights('weights_best_models/learned_pooling_alone.h5')\n",
    "normalized_weights = tf.nn.softmax(tenney.weights[0]).numpy()"
   ]
  },
  {
   "cell_type": "code",
   "execution_count": 36,
   "metadata": {},
   "outputs": [
    {
     "data": {
      "image/png": "[encoded data removed]",
      "text/plain": [
       "<Figure size 432x288 with 1 Axes>"
      ]
     },
     "metadata": {
      "needs_background": "light"
     },
     "output_type": "display_data"
    }
   ],
   "source": [
    "plt.plot(normalized_weights)\n",
    "plt.title(\"Normalized learned pooling weights by layer\")\n",
    "plt.xlabel(\"Layer\")\n",
    "labels = plt.xticks(range(25))"
   ]
  }
 ],
 "metadata": {
  "kernelspec": {
   "display_name": "Python 3",
   "language": "python",
   "name": "python3"
  },
  "language_info": {
   "codemirror_mode": {
    "name": "ipython",
    "version": 3
   },
   "file_extension": ".py",
   "mimetype": "text/x-python",
   "name": "python",
   "nbconvert_exporter": "python",
   "pygments_lexer": "ipython3",
   "version": "3.7.6"
  }
 },
 "nbformat": 4,
 "nbformat_minor": 4
}
