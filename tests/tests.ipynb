{
 "cells": [
  {
   "cell_type": "code",
   "execution_count": 1,
   "metadata": {},
   "outputs": [],
   "source": [
    "import unittest\n",
    "\n",
    "#git repo specific setup\n",
    "import sys\n",
    "sys.path.append('../utils')\n",
    "\n",
    "from evaluation import *"
   ]
  },
  {
   "cell_type": "code",
   "execution_count": 2,
   "metadata": {},
   "outputs": [],
   "source": [
    "pretrained_model = PretrainedBertSquad2('../../bert_base_squad_1e-5_adam_4batchsize_2epochs_weights.h5')"
   ]
  },
  {
   "cell_type": "code",
   "execution_count": 3,
   "metadata": {},
   "outputs": [],
   "source": [
    "squad_config = Squad2Config()\n",
    "dev_embeddings = '../../../SQuADv2/dev_386.h5'"
   ]
  },
  {
   "cell_type": "code",
   "execution_count": null,
   "metadata": {},
   "outputs": [
    {
     "name": "stderr",
     "output_type": "stream",
     "text": [
      "100%|██████████████████████████████████████████████████████████████████████████████████| 35/35 [00:05<00:00,  6.78it/s]\n"
     ]
    }
   ],
   "source": [
    "squad_dev_data = SquadDevAnswers('../../../SQuADv2/', \n",
    "                                 dev_embeddings,\n",
    "                                 '../../dev_qas_id')\n",
    "start_logits, end_logits = pretrained_model.model.predict([squad_dev_data.ids, squad_dev_data.masks])"
   ]
  },
  {
   "cell_type": "code",
   "execution_count": null,
   "metadata": {},
   "outputs": [],
   "source": [
    "squad_eval = SquadModelEvaluation(pretrained_model.model, \n",
    "                                  squad_dev_data,\n",
    "                                  start_logits,\n",
    "                                  end_logits)"
   ]
  },
  {
   "cell_type": "code",
   "execution_count": null,
   "metadata": {},
   "outputs": [],
   "source": [
    "squad_eval.evaluate_metrics()"
   ]
  },
  {
   "cell_type": "code",
   "execution_count": null,
   "metadata": {},
   "outputs": [],
   "source": []
  }
 ],
 "metadata": {
  "kernelspec": {
   "display_name": "Python 3",
   "language": "python",
   "name": "python3"
  },
  "language_info": {
   "codemirror_mode": {
    "name": "ipython",
    "version": 3
   },
   "file_extension": ".py",
   "mimetype": "text/x-python",
   "name": "python",
   "nbconvert_exporter": "python",
   "pygments_lexer": "ipython3",
   "version": "3.7.6"
  }
 },
 "nbformat": 4,
 "nbformat_minor": 4
}
